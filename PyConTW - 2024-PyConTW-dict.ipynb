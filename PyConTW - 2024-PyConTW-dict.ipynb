{
 "cells": [
  {
   "cell_type": "markdown",
   "metadata": {},
   "source": [
    "# What does a dict do?\n",
    "\n",
    "- Key-value pairs\n",
    "    - Every key has a value\n",
    "    - Every value has a key\n",
    "- Key is hashable\n",
    "- Key is unique\n",
    "- Values can be ABOSOLUTELY ANYTHING\n",
    "- If we use `[]`, we can provide a key and get the corresponding value\n",
    "- If we provide a key that doesn't exist, we get a `KeyError` exception\n",
    "- Finding a key takes VERY LITTLE TIME."
   ]
  },
  {
   "cell_type": "code",
   "execution_count": 2,
   "metadata": {},
   "outputs": [
    {
     "data": {
      "text/plain": [
       "True"
      ]
     },
     "execution_count": 2,
     "metadata": {},
     "output_type": "execute_result"
    }
   ],
   "source": [
    "mylist = [10, 20, 30, 40, 50]\n",
    "40 in mylist   "
   ]
  },
  {
   "cell_type": "code",
   "execution_count": 3,
   "metadata": {},
   "outputs": [
    {
     "data": {
      "text/plain": [
       "True"
      ]
     },
     "execution_count": 3,
     "metadata": {},
     "output_type": "execute_result"
    }
   ],
   "source": [
    "d = {'a':10, 'b':20, 'c':30, 'd':40, 'e':50}\n",
    "'d' in d"
   ]
  },
  {
   "cell_type": "code",
   "execution_count": 4,
   "metadata": {},
   "outputs": [],
   "source": [
    "mylist = list(range(1_000_000))\n"
   ]
  },
  {
   "cell_type": "code",
   "execution_count": 6,
   "metadata": {},
   "outputs": [
    {
     "name": "stdout",
     "output_type": "stream",
     "text": [
      "10.6 ms ± 237 µs per loop (mean ± std. dev. of 7 runs, 100 loops each)\n"
     ]
    }
   ],
   "source": [
    "%timeit 999_999 in mylist"
   ]
  },
  {
   "cell_type": "code",
   "execution_count": 7,
   "metadata": {},
   "outputs": [],
   "source": [
    "# let's do the same thing with a dict\n",
    "\n",
    "mydict = dict.fromkeys(range(1_000_000))"
   ]
  },
  {
   "cell_type": "code",
   "execution_count": 8,
   "metadata": {},
   "outputs": [
    {
     "name": "stdout",
     "output_type": "stream",
     "text": [
      "37.5 ns ± 1.5 ns per loop (mean ± std. dev. of 7 runs, 10,000,000 loops each)\n"
     ]
    }
   ],
   "source": [
    "%timeit 999_999 in mydict"
   ]
  },
  {
   "cell_type": "markdown",
   "metadata": {},
   "source": [
    "# Hashable and hashing\n",
    "\n",
    "The idea of a hash function is that we give it some input, and we get back a number. The number seems random, but it isn't. People cannot predict what the output will be from a hash function (if it's a good one). The idea is that even though we'll get the same result given the same input, because it's seemingly random, the results are spread out across a very large number of potential outputs.\n",
    "\n",
    "The odds of a collision are very small (or should be).\n",
    "\n",
    "In Python, we have a `hash` function. This takes an input and returns an output. Python's hash function doesn't take mutable builtins. The reason is because of dicts.\n",
    "\n",
    "A dict computes the hash of a key to know where to store it. Or where to retrieve it."
   ]
  },
  {
   "cell_type": "code",
   "execution_count": 9,
   "metadata": {},
   "outputs": [
    {
     "data": {
      "text/plain": [
       "-7844547314166807652"
      ]
     },
     "execution_count": 9,
     "metadata": {},
     "output_type": "execute_result"
    }
   ],
   "source": [
    "hash('a')"
   ]
  },
  {
   "cell_type": "code",
   "execution_count": 10,
   "metadata": {},
   "outputs": [
    {
     "data": {
      "text/plain": [
       "2131026062639327786"
      ]
     },
     "execution_count": 10,
     "metadata": {},
     "output_type": "execute_result"
    }
   ],
   "source": [
    "hash('b')"
   ]
  },
  {
   "cell_type": "markdown",
   "metadata": {},
   "source": [
    "# We have to write a hash function!\n",
    "\n",
    "What does a hash function need to do?\n",
    "\n",
    "- Give different output, given different inputs\n",
    "- "
   ]
  },
  {
   "cell_type": "code",
   "execution_count": 11,
   "metadata": {},
   "outputs": [
    {
     "data": {
      "text/plain": [
       "-7844547314166807652"
      ]
     },
     "execution_count": 11,
     "metadata": {},
     "output_type": "execute_result"
    }
   ],
   "source": [
    "hash('a')"
   ]
  },
  {
   "cell_type": "code",
   "execution_count": 12,
   "metadata": {},
   "outputs": [
    {
     "data": {
      "text/plain": [
       "2131026062639327786"
      ]
     },
     "execution_count": 12,
     "metadata": {},
     "output_type": "execute_result"
    }
   ],
   "source": [
    "hash('b')"
   ]
  },
  {
   "cell_type": "code",
   "execution_count": 13,
   "metadata": {},
   "outputs": [
    {
     "data": {
      "text/plain": [
       "-582628972797420314"
      ]
     },
     "execution_count": 13,
     "metadata": {},
     "output_type": "execute_result"
    }
   ],
   "source": [
    "hash('c')"
   ]
  },
  {
   "cell_type": "code",
   "execution_count": 14,
   "metadata": {},
   "outputs": [
    {
     "data": {
      "text/plain": [
       "1"
      ]
     },
     "execution_count": 14,
     "metadata": {},
     "output_type": "execute_result"
    }
   ],
   "source": [
    "hash(1)"
   ]
  },
  {
   "cell_type": "code",
   "execution_count": 15,
   "metadata": {},
   "outputs": [
    {
     "data": {
      "text/plain": [
       "10"
      ]
     },
     "execution_count": 15,
     "metadata": {},
     "output_type": "execute_result"
    }
   ],
   "source": [
    "hash(10)"
   ]
  },
  {
   "cell_type": "code",
   "execution_count": 16,
   "metadata": {},
   "outputs": [
    {
     "data": {
      "text/plain": [
       "-10"
      ]
     },
     "execution_count": 16,
     "metadata": {},
     "output_type": "execute_result"
    }
   ],
   "source": [
    "hash(-10)"
   ]
  },
  {
   "cell_type": "code",
   "execution_count": 17,
   "metadata": {},
   "outputs": [
    {
     "data": {
      "text/plain": [
       "-2"
      ]
     },
     "execution_count": 17,
     "metadata": {},
     "output_type": "execute_result"
    }
   ],
   "source": [
    "hash(-1)"
   ]
  },
  {
   "cell_type": "code",
   "execution_count": 18,
   "metadata": {},
   "outputs": [
    {
     "data": {
      "text/plain": [
       "-2"
      ]
     },
     "execution_count": 18,
     "metadata": {},
     "output_type": "execute_result"
    }
   ],
   "source": [
    "hash(-2)"
   ]
  },
  {
   "cell_type": "markdown",
   "metadata": {},
   "source": [
    "# Exercise: Write a hash function\n",
    "\n",
    "1. This can be really simple!\n",
    "2. It should work with inputs of type int, float, string, and tuple.\n",
    "3. It should give us different results for most normally different outputs.\n",
    "4. It should give us different results for 'abc' and 'cba'.\n",
    "\n",
    "Hints:\n",
    "1. You can get the type with `isinstance` -- as in, `isinstance(10, int)`\n",
    "2. You can get the numeric Unicode point of a character with `ord`\n",
    "\n",
    "Work in a file called `mydict.py`."
   ]
  },
  {
   "cell_type": "markdown",
   "metadata": {},
   "source": [
    "# Create a HashTable class\n",
    "\n",
    "Other languages don't call them \"dictionaries.\" They use a lot of other terms:\n",
    "\n",
    "- Hash table\n",
    "- Hash map\n",
    "- Hash\n",
    "- Map\n",
    "- Associative array\n",
    "- Key-value store\n",
    "- Name-value store\n",
    "\n",
    "If we want to write a HashTable class, how do we do it?\n",
    "\n",
    "How about we pass a list of (name-value) tuples to `HashTable` to create our dict?\n",
    "\n",
    "How will we store things inside of the class?\n",
    "\n",
    "In C, we could take the key, run `myhash` on it, get a value back, and use that as the address in memory for storing our dict.\n",
    "\n",
    "In Python, we don't even have access to memory. Let's create a list full of None, and then we can use the result of `myhash` to indicate at what index we'll store that key-value pair.\n",
    "\n",
    "If I say\n",
    "\n",
    "    d['a'] = 10\n",
    "\n",
    "The class will run `myhash('a')`, get a result, and use that number as the index for storing `('a', 10)`.\n",
    "\n",
    "How big should our list be? What do we do if the `myhash` result is too big?\n",
    "\n",
    "We'll create a list full of `None`, of size `n`. Then, when we invoke `myhash`, and get a number back, we'll use `% n` to get a result that is from 0 up to (and not including) `n`. Then we can store there.\n",
    "\n",
    "Python 2 started with a list of size 8.\n",
    "\n",
    "\n"
   ]
  },
  {
   "cell_type": "markdown",
   "metadata": {
    "jp-MarkdownHeadingCollapsed": true
   },
   "source": [
    "# Task 2\n",
    "\n",
    "- Create a `HashTable` class\n",
    "- When we create a new instance, we'll pass a list of tuples with key-value pairs.\n",
    "- We'll create an attribute, `data`, on the instance that is a list. That list will contain 8 `None` values.\n",
    "- In `__init__`, we'll go through the list of tuples, adding each one to a location in our `data` attribute based on the result of `myhash`.\n",
    "- We should then be able to print `ht.myhash` and see them in the right place.\n",
    "- Don't worry yet about:\n",
    "    - Collisions\n",
    "    - Retrieving with `[]`\n",
    "    - Setting with `[]`"
   ]
  },
  {
   "cell_type": "markdown",
   "metadata": {},
   "source": [
    "# Task 3: Get `[]` to work for a key\n",
    "\n",
    "We use `[]` to retrieve from a bunch of different types:\n",
    "\n",
    "- Strings, where we get a character back (or a slice)\n",
    "- Lists, where we get an element back\n",
    "- Tuples, where we get an element back\n",
    "- Dicts, where we get a value (based on the key)\n",
    "\n",
    "When we say `x[i]`, we're really running a method behind the scenes -- `__getitem__`, in this case, it would be `x.__getitem__(i)`.\n",
    "\n",
    "If we implement `__getitem__` to get a key, then invoke `myhash` to get the hash value for that key, then use `%` on the length of our list, we can return the value for a key, and it'll happen really fast!\n",
    "\n",
    "1. Implement `__getitem__` for our dict\n",
    "2. If `None` is there, then raise `KeyError` (just like a real dict)\n",
    "3. If you want, then check the key in that location, and if it doesn't match the requested key, then we have a collision that we didn't handle appropriately"
   ]
  }
 ],
 "metadata": {
  "kernelspec": {
   "display_name": "Python 3 (ipykernel)",
   "language": "python",
   "name": "python3"
  },
  "language_info": {
   "codemirror_mode": {
    "name": "ipython",
    "version": 3
   },
   "file_extension": ".py",
   "mimetype": "text/x-python",
   "name": "python",
   "nbconvert_exporter": "python",
   "pygments_lexer": "ipython3",
   "version": "3.12.2"
  },
  "widgets": {
   "application/vnd.jupyter.widget-state+json": {
    "state": {},
    "version_major": 2,
    "version_minor": 0
   }
  }
 },
 "nbformat": 4,
 "nbformat_minor": 4
}
